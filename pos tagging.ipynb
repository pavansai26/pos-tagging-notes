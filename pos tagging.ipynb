{
 "cells": [
  {
   "cell_type": "markdown",
   "metadata": {},
   "source": [
    "# part of speech tagging\n"
   ]
  },
  {
   "cell_type": "markdown",
   "metadata": {},
   "source": [
    "there are different types of taggers are avialable.\n",
    "1)default tagger\n",
    "2)sequential tagger"
   ]
  },
  {
   "cell_type": "markdown",
   "metadata": {},
   "source": [
    "default tagger has very less efficiency.so we go to sequential tagger"
   ]
  },
  {
   "cell_type": "markdown",
   "metadata": {},
   "source": [
    "# sequential tagger"
   ]
  },
  {
   "cell_type": "markdown",
   "metadata": {},
   "source": [
    "1)sequentialbackoff tagger that serves tags based upon the sequence."
   ]
  },
  {
   "cell_type": "markdown",
   "metadata": {},
   "source": [
    "2)tagger tries to model the tags based upon the context, and if it is not able to predict the tag correctly, it consults a backoff tagger.\n",
    "3)typically default tagger parameter could be used as a backoff taggger"
   ]
  },
  {
   "cell_type": "markdown",
   "metadata": {},
   "source": [
    "# n gram tagger "
   ]
  },
  {
   "cell_type": "markdown",
   "metadata": {},
   "source": [
    "it is a subclass of sequential tagger,where the tagger takes previous n words in the context,to predict the pos tag for the given token."
   ]
  },
  {
   "cell_type": "markdown",
   "metadata": {},
   "source": [
    "n gram tagger is 3 types\n",
    "1)unigram tagger\n",
    "2)bigram tagger\n",
    "3)trigram tager"
   ]
  },
  {
   "cell_type": "code",
   "execution_count": 3,
   "metadata": {},
   "outputs": [],
   "source": [
    "from nltk.tag import UnigramTagger"
   ]
  },
  {
   "cell_type": "code",
   "execution_count": 4,
   "metadata": {},
   "outputs": [],
   "source": [
    "from nltk.tag import DefaultTagger"
   ]
  },
  {
   "cell_type": "code",
   "execution_count": 5,
   "metadata": {},
   "outputs": [],
   "source": [
    "from nltk.tag import BigramTagger"
   ]
  },
  {
   "cell_type": "code",
   "execution_count": 7,
   "metadata": {},
   "outputs": [],
   "source": [
    "from nltk.tag import TrigramTagger"
   ]
  },
  {
   "cell_type": "markdown",
   "metadata": {},
   "source": [
    "we want to know how much each tagger efficiency.there is a method available in python i.e evaluate()"
   ]
  },
  {
   "cell_type": "markdown",
   "metadata": {},
   "source": [
    "'variable name'.evaluate()"
   ]
  },
  {
   "cell_type": "markdown",
   "metadata": {},
   "source": [
    "unigram tagger just considers the conditional frequency of tags and predicts the most frequent tag for the every given token."
   ]
  },
  {
   "cell_type": "markdown",
   "metadata": {},
   "source": [
    "the bigram tagger parameter will consider the tags of given word and the previous word and tag as a tuple to get the given tag for the test word."
   ]
  },
  {
   "cell_type": "markdown",
   "metadata": {},
   "source": [
    "the trigram tagger parameter looks for the previous two words with a similar process"
   ]
  },
  {
   "cell_type": "markdown",
   "metadata": {},
   "source": [
    "it's very evident that coverage of the trigramtagger parameter will be less and the accuracy of that instance will be high."
   ]
  },
  {
   "cell_type": "markdown",
   "metadata": {},
   "source": [
    "unigram tagger will have better coverage"
   ]
  },
  {
   "cell_type": "markdown",
   "metadata": {},
   "source": [
    "# regex tagger"
   ]
  },
  {
   "cell_type": "markdown",
   "metadata": {},
   "source": [
    "there is one more class of sequential tagger that is regular expression based taggers.here  instead of looking for the exact word we can define a regular expression and at the sametime we can define the corresponding tag for the given expressions."
   ]
  },
  {
   "cell_type": "markdown",
   "metadata": {},
   "source": [
    "we know that any thing ends with ness will be an adjective."
   ]
  },
  {
   "cell_type": "code",
   "execution_count": 9,
   "metadata": {},
   "outputs": [],
   "source": [
    "from nltk.tag.sequential import RegexpTagger"
   ]
  },
  {
   "cell_type": "markdown",
   "metadata": {},
   "source": [
    "regexp_tagger=RegexpTagger([(r'^-?[0-9]+(.[0-9]+)?$','CD')])#cardinal numbers"
   ]
  },
  {
   "cell_type": "markdown",
   "metadata": {},
   "source": [
    "regexp_tagger=RegexpTagger([(r'(The|the|A|a|An|an|At|AT|at)$')])#articles"
   ]
  },
  {
   "cell_type": "markdown",
   "metadata": {},
   "source": [
    "regexp_tagger=RegexpTagger([r'(.*ness|.*able]$')#adjectives"
   ]
  },
  {
   "cell_type": "markdown",
   "metadata": {},
   "source": [
    "regexp_tagger=RegexpTagger([r'(.*ly)$'])#adverbs"
   ]
  },
  {
   "cell_type": "markdown",
   "metadata": {},
   "source": [
    "regexp_tagger=RegexpTagger([r'(.*s)$'])#plural nouns"
   ]
  },
  {
   "cell_type": "markdown",
   "metadata": {},
   "source": [
    "regexp_tagger=RegexpTagger([r'(.*ing)$'])#gerunds"
   ]
  },
  {
   "cell_type": "markdown",
   "metadata": {},
   "source": [
    "regexp_tagger=RegexpTagger([r'(.*ed)$'])#past tense verbs"
   ]
  },
  {
   "cell_type": "markdown",
   "metadata": {},
   "source": [
    "regexp_tagger=RegexpTagger([r'.*'])#nouns"
   ]
  },
  {
   "cell_type": "markdown",
   "metadata": {},
   "source": [
    "to know the efficiency of regex tagger there is a method in python"
   ]
  },
  {
   "cell_type": "markdown",
   "metadata": {},
   "source": [
    "regexp_tagger.evaluate()"
   ]
  },
  {
   "cell_type": "markdown",
   "metadata": {},
   "source": [
    "if we combine the regex tagger and backoff tagger we can improve the performance"
   ]
  },
  {
   "cell_type": "code",
   "execution_count": null,
   "metadata": {},
   "outputs": [],
   "source": []
  }
 ],
 "metadata": {
  "kernelspec": {
   "display_name": "Python 3",
   "language": "python",
   "name": "python3"
  },
  "language_info": {
   "codemirror_mode": {
    "name": "ipython",
    "version": 3
   },
   "file_extension": ".py",
   "mimetype": "text/x-python",
   "name": "python",
   "nbconvert_exporter": "python",
   "pygments_lexer": "ipython3",
   "version": "3.7.3"
  }
 },
 "nbformat": 4,
 "nbformat_minor": 2
}
